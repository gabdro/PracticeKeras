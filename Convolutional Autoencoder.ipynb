{
 "cells": [
  {
   "cell_type": "code",
   "execution_count": 17,
   "metadata": {
    "collapsed": true
   },
   "outputs": [],
   "source": [
    "import keras\n",
    "from keras.models import Sequential\n",
    "from keras.layers import Dense,Dropout,Activation,Flatten\n",
    "from keras.layers import Conv2D,MaxPooling2D,UpSampling2D\n",
    "from keras.datasets import cifar10,mnist\n",
    "\n",
    "from keras.models import load_model\n",
    "\n",
    "import numpy as np\n",
    "import matplotlib.pyplot as plt\n",
    "%matplotlib inline\n"
   ]
  },
  {
   "cell_type": "code",
   "execution_count": 4,
   "metadata": {
    "collapsed": true
   },
   "outputs": [],
   "source": [
    "# 学習データの準備\n",
    "(x_train,_),(x_test,_) = mnist.load_data()\n",
    "# 正規化(0-1)\n",
    "x_train = x_train.astype(\"float32\")/255.0\n",
    "x_test = x_test.astype(\"float32\")/255.0\n",
    "x_train = np.reshape(x_train, (len(x_train), 28, 28, 1))  # adapt this if using `channels_first` image data format\n",
    "x_test = np.reshape(x_test, (len(x_test), 28, 28, 1))  # adapt this if using `channels_first` image data format"
   ]
  },
  {
   "cell_type": "code",
   "execution_count": 5,
   "metadata": {
    "collapsed": true
   },
   "outputs": [],
   "source": [
    "# 学習データの準備\n",
    "(x_train,_),(x_test,_) = cifar10.load_data()\n",
    "# 正規化(0-1)\n",
    "x_train = x_train.astype(\"float32\")/255.0\n",
    "x_test = x_test.astype(\"float32\")/255.0\n",
    "x_train = np.reshape(x_train, (len(x_train), 32, 32, 3))  # adapt this if using `channels_first` image data format\n",
    "x_test = np.reshape(x_test, (len(x_test), 32, 32, 3))  # adapt this if using `channels_first` image data format"
   ]
  },
  {
   "cell_type": "code",
   "execution_count": 18,
   "metadata": {},
   "outputs": [
    {
     "name": "stdout",
     "output_type": "stream",
     "text": [
      "_________________________________________________________________\n",
      "Layer (type)                 Output Shape              Param #   \n",
      "=================================================================\n",
      "conv2d_6 (Conv2D)            (None, 32, 32, 16)        448       \n",
      "_________________________________________________________________\n",
      "max_pooling2d_3 (MaxPooling2 (None, 16, 16, 16)        0         \n",
      "_________________________________________________________________\n",
      "conv2d_7 (Conv2D)            (None, 16, 16, 8)         1160      \n",
      "_________________________________________________________________\n",
      "max_pooling2d_4 (MaxPooling2 (None, 8, 8, 8)           0         \n",
      "_________________________________________________________________\n",
      "conv2d_8 (Conv2D)            (None, 8, 8, 8)           584       \n",
      "_________________________________________________________________\n",
      "up_sampling2d_3 (UpSampling2 (None, 16, 16, 8)         0         \n",
      "_________________________________________________________________\n",
      "conv2d_9 (Conv2D)            (None, 16, 16, 16)        1168      \n",
      "_________________________________________________________________\n",
      "up_sampling2d_4 (UpSampling2 (None, 32, 32, 16)        0         \n",
      "_________________________________________________________________\n",
      "conv2d_10 (Conv2D)           (None, 32, 32, 3)         435       \n",
      "=================================================================\n",
      "Total params: 3,795\n",
      "Trainable params: 3,795\n",
      "Non-trainable params: 0\n",
      "_________________________________________________________________\n"
     ]
    }
   ],
   "source": [
    "# モデル\n",
    "c_autoencoder = Sequential()\n",
    "#Encoder\n",
    "c_autoencoder.add(Conv2D(16,(3,3),\n",
    "                         activation='relu',\n",
    "                         padding='same',\n",
    "                         input_shape=x_train.shape[1:]\n",
    "                         ))\n",
    "c_autoencoder.add(MaxPooling2D(pool_size=(2,2)))\n",
    "c_autoencoder.add(Conv2D(8,(3,3),\n",
    "                         activation='relu',\n",
    "                         padding='same'\n",
    "                         ))\n",
    "c_autoencoder.add(MaxPooling2D(pool_size=(2,2)))\n",
    "\n",
    "#Decoder\n",
    "c_autoencoder.add(Conv2D(8,(3,3),\n",
    "                         activation='relu',\n",
    "                         padding='same',\n",
    "                         ))\n",
    "c_autoencoder.add(UpSampling2D(size=(2,2)))\n",
    "c_autoencoder.add(Conv2D(16,(3,3),\n",
    "                         activation='relu',\n",
    "                         padding='same',\n",
    "                         ))\n",
    "c_autoencoder.add(UpSampling2D(size=(2,2)))\n",
    "c_autoencoder.add(Conv2D(3,(3,3),\n",
    "                         activation='relu',\n",
    "                         padding='same',\n",
    "                         ))\n",
    "\n",
    "c_autoencoder.summary()\n",
    "c_autoencoder.compile(optimizer='adam',\n",
    "                      loss = 'binary_crossentropy')"
   ]
  },
  {
   "cell_type": "code",
   "execution_count": 7,
   "metadata": {},
   "outputs": [
    {
     "name": "stdout",
     "output_type": "stream",
     "text": [
      "Train on 50000 samples, validate on 10000 samples\n",
      "Epoch 1/1\n",
      "50000/50000 [==============================] - 135s - loss: 0.6916 - val_loss: 0.6016\n"
     ]
    },
    {
     "data": {
      "text/plain": [
       "<keras.callbacks.History at 0x1281c6898>"
      ]
     },
     "execution_count": 7,
     "metadata": {},
     "output_type": "execute_result"
    }
   ],
   "source": [
    "c_autoencoder.fit(x_train, x_train,\n",
    "                  epochs=1,\n",
    "                  batch_size=128,\n",
    "                  shuffle=True,\n",
    "                  validation_data=(x_test, x_test)\n",
    "                 )"
   ]
  },
  {
   "cell_type": "code",
   "execution_count": 9,
   "metadata": {
    "collapsed": true
   },
   "outputs": [],
   "source": [
    "# モデルの保存\n",
    "c_autoencoder.save(\"c_autoencoder.hdf5\")"
   ]
  },
  {
   "cell_type": "code",
   "execution_count": 11,
   "metadata": {},
   "outputs": [
    {
     "data": {
      "text/plain": [
       "<keras.models.Sequential at 0x11d46a390>"
      ]
     },
     "execution_count": 11,
     "metadata": {},
     "output_type": "execute_result"
    }
   ],
   "source": [
    "model=load_model(\"c_ae.hdf5\")"
   ]
  },
  {
   "cell_type": "code",
   "execution_count": 20,
   "metadata": {},
   "outputs": [
    {
     "data": {
      "image/png": "[encoded data removed]",
      "text/plain": [
       "<matplotlib.figure.Figure at 0x129e388d0>"
      ]
     },
     "metadata": {},
     "output_type": "display_data"
    }
   ],
   "source": [
    "model=load_model(\"c_ae.hdf5\")\n",
    "plt.subplot(1,2,1)\n",
    "plt.imshow(x_test[0])\n",
    "plt.gray()\n",
    "plt.subplot(1,2,2)\n",
    "decoded_image = model.predict(x_test)\n",
    "plt.imshow(decoded_image[0])\n",
    "plt.gray()\n",
    "#plt.savefig(\"result.png\")"
   ]
  },
  {
   "cell_type": "code",
   "execution_count": null,
   "metadata": {
    "collapsed": true
   },
   "outputs": [],
   "source": []
  }
 ],
 "metadata": {
  "kernelspec": {
   "display_name": "Python 3",
   "language": "python",
   "name": "python3"
  },
  "language_info": {
   "codemirror_mode": {
    "name": "ipython",
    "version": 3
   },
   "file_extension": ".py",
   "mimetype": "text/x-python",
   "name": "python",
   "nbconvert_exporter": "python",
   "pygments_lexer": "ipython3",
   "version": "3.6.0"
  }
 },
 "nbformat": 4,
 "nbformat_minor": 2
}
