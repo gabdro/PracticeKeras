{
 "cells": [
  {
   "cell_type": "code",
   "execution_count": 1,
   "metadata": {},
   "outputs": [
    {
     "name": "stderr",
     "output_type": "stream",
     "text": [
      "Using TensorFlow backend.\n"
     ]
    }
   ],
   "source": [
    "import numpy as np\n",
    "from keras.models import Sequential\n",
    "from keras.layers.core import Dense, Activation, RepeatVector\n",
    "from keras.layers.recurrent import LSTM\n",
    "from keras.layers.wrappers import TimeDistributed\n",
    "from keras.optimizers import Adam\n",
    "from keras.callbacks import EarlyStopping\n",
    "\n",
    "from sklearn.model_selection import train_test_split\n",
    "from sklearn.utils import shuffle"
   ]
  },
  {
   "cell_type": "code",
   "execution_count": 6,
   "metadata": {
    "collapsed": true
   },
   "outputs": [],
   "source": [
    "#ランダムに1桁から3桁の数字(0123456789)を返す\n",
    "def n(digits=3):\n",
    "    number = ''\n",
    "    for i in range(np.random.randint(1,digits+1)):\n",
    "        number += np.random.choice(list('0123456789'))\n",
    "    return int(number)\n",
    "\n",
    "def padding(chars,maxlen):\n",
    "    return chars+' '*(maxlen - len(chars))"
   ]
  },
  {
   "cell_type": "code",
   "execution_count": 19,
   "metadata": {},
   "outputs": [],
   "source": [
    "#データの生成\n",
    "N = 20000\n",
    "N_train = int(N*0.9)\n",
    "N_validation = N - N_train\n",
    "\n",
    "digits = 3 #最大ケタ数\n",
    "input_digits = digits*2 + 1 #example: 123+456\n",
    "output_digits = digits + 1 #500+500=1000 4桁以上\n",
    "\n",
    "added = set()\n",
    "questions = []\n",
    "answers = []\n",
    "\n",
    "while len(questions) < N:\n",
    "    a , b = n() , n()\n",
    "    \n",
    "    #同じペアは含まないようにするため\n",
    "    pair = tuple(sorted((a,b)))\n",
    "    if pair in added:\n",
    "        continue\n",
    "    \n",
    "    question = '{}+{}'.format(a,b)\n",
    "    question = padding(question,input_digits)\n",
    "    answer = str(a+b)\n",
    "    answer = padding(answer,output_digits)\n",
    "    \n",
    "    added.add(pair)\n",
    "    questions.append(question)\n",
    "    answers.append(answer)"
   ]
  },
  {
   "cell_type": "code",
   "execution_count": 23,
   "metadata": {},
   "outputs": [],
   "source": [
    "chars = '0123456789+ '\n",
    "char_indices = dict((c,i) for i,c in enumerate(chars))\n",
    "indices_char = dict((i,c) for i,c in enumerate(chars))"
   ]
  },
  {
   "cell_type": "code",
   "execution_count": 33,
   "metadata": {},
   "outputs": [
    {
     "data": {
      "text/plain": [
       "({' ': 11,\n",
       "  '+': 10,\n",
       "  '0': 0,\n",
       "  '1': 1,\n",
       "  '2': 2,\n",
       "  '3': 3,\n",
       "  '4': 4,\n",
       "  '5': 5,\n",
       "  '6': 6,\n",
       "  '7': 7,\n",
       "  '8': 8,\n",
       "  '9': 9},\n",
       " {0: '0',\n",
       "  1: '1',\n",
       "  2: '2',\n",
       "  3: '3',\n",
       "  4: '4',\n",
       "  5: '5',\n",
       "  6: '6',\n",
       "  7: '7',\n",
       "  8: '8',\n",
       "  9: '9',\n",
       "  10: '+',\n",
       "  11: ' '})"
      ]
     },
     "execution_count": 33,
     "metadata": {},
     "output_type": "execute_result"
    }
   ],
   "source": [
    "char_indices,indices_char"
   ]
  },
  {
   "cell_type": "code",
   "execution_count": 26,
   "metadata": {
    "collapsed": true
   },
   "outputs": [],
   "source": [
    "X = np.zeros((len(questions), input_digits,len(chars)),dtype=np.integer)\n",
    "Y = np.zeros((len(questions), digits+1,len(chars)),dtype=np.integer)"
   ]
  },
  {
   "cell_type": "code",
   "execution_count": 28,
   "metadata": {},
   "outputs": [
    {
     "data": {
      "text/plain": [
       "(20000, 7, 12)"
      ]
     },
     "execution_count": 28,
     "metadata": {},
     "output_type": "execute_result"
    }
   ],
   "source": [
    "X.shape #データ数,インプット数,記号数"
   ]
  },
  {
   "cell_type": "code",
   "execution_count": 30,
   "metadata": {},
   "outputs": [],
   "source": [
    "for i in range(N):\n",
    "    for t,char in enumerate(questions[i]):\n",
    "        X[i,t,char_indices[char]] = 1 \n",
    "    for t,char in enumerate(answers[i]):\n",
    "        Y[i,t,char_indices[char]] = 1"
   ]
  },
  {
   "cell_type": "code",
   "execution_count": 31,
   "metadata": {},
   "outputs": [
    {
     "data": {
      "text/plain": [
       "array([[0, 1, 0, 0, 0, 0, 0, 0, 0, 0, 0, 0],\n",
       "       [0, 0, 0, 0, 0, 0, 0, 0, 0, 0, 1, 0],\n",
       "       [0, 1, 0, 0, 0, 0, 0, 0, 0, 0, 0, 0],\n",
       "       [0, 0, 0, 0, 0, 0, 0, 0, 0, 0, 0, 1],\n",
       "       [0, 0, 0, 0, 0, 0, 0, 0, 0, 0, 0, 1],\n",
       "       [0, 0, 0, 0, 0, 0, 0, 0, 0, 0, 0, 1],\n",
       "       [0, 0, 0, 0, 0, 0, 0, 0, 0, 0, 0, 1]])"
      ]
     },
     "execution_count": 31,
     "metadata": {},
     "output_type": "execute_result"
    }
   ],
   "source": [
    "X[0]"
   ]
  },
  {
   "cell_type": "code",
   "execution_count": 36,
   "metadata": {},
   "outputs": [
    {
     "data": {
      "text/plain": [
       "1"
      ]
     },
     "execution_count": 36,
     "metadata": {},
     "output_type": "execute_result"
    }
   ],
   "source": [
    "char_indices['1']"
   ]
  },
  {
   "cell_type": "code",
   "execution_count": 37,
   "metadata": {
    "collapsed": true
   },
   "outputs": [],
   "source": [
    "X_train,X_validation,Y_train,Y_validation = train_test_split(X,Y,train_size=N_train)"
   ]
  },
  {
   "cell_type": "code",
   "execution_count": 39,
   "metadata": {},
   "outputs": [
    {
     "name": "stdout",
     "output_type": "stream",
     "text": [
      "_________________________________________________________________\n",
      "Layer (type)                 Output Shape              Param #   \n",
      "=================================================================\n",
      "lstm_3 (LSTM)                (None, 128)               72192     \n",
      "_________________________________________________________________\n",
      "repeat_vector_2 (RepeatVecto (None, 4, 128)            0         \n",
      "_________________________________________________________________\n",
      "lstm_4 (LSTM)                (None, 4, 128)            131584    \n",
      "_________________________________________________________________\n",
      "time_distributed_2 (TimeDist (None, 4, 12)             1548      \n",
      "_________________________________________________________________\n",
      "activation_2 (Activation)    (None, 4, 12)             0         \n",
      "=================================================================\n",
      "Total params: 205,324\n",
      "Trainable params: 205,324\n",
      "Non-trainable params: 0\n",
      "_________________________________________________________________\n"
     ]
    }
   ],
   "source": [
    "# seq2seq\n",
    "n_in = len(chars) \n",
    "n_hidden = 128 #適当\n",
    "n_out = len(chars)\n",
    "\n",
    "model = Sequential()\n",
    "#encoder\n",
    "model.add(LSTM(n_hidden,input_shape=(input_digits,n_in)))\n",
    "#decoder\n",
    "model.add(RepeatVector(output_digits))\n",
    "model.add(LSTM(n_hidden,return_sequences=True))\n",
    "\n",
    "model.add(TimeDistributed(Dense(n_out)))\n",
    "model.add(Activation('softmax'))\n",
    "model.compile(loss='categorical_crossentropy',\n",
    "              optimizer=Adam(lr=1e-3,beta_1=0.9,beta_2=0.999),\n",
    "              metrics=['accuracy'])\n",
    "model.summary()"
   ]
  },
  {
   "cell_type": "code",
   "execution_count": 42,
   "metadata": {},
   "outputs": [
    {
     "name": "stdout",
     "output_type": "stream",
     "text": [
      "Train on 18000 samples, validate on 2000 samples\n",
      "Epoch 1/1\n",
      "18000/18000 [==============================] - 10s - loss: 1.8293 - acc: 0.3489 - val_loss: 1.7922 - val_acc: 0.3561\n",
      "----------\n",
      "Q:   18+30  \n",
      "A:   11  \n",
      "T/F: F\n",
      "----------\n",
      "Q:   2+706  \n",
      "A:   11  \n",
      "T/F: F\n",
      "----------\n",
      "Q:   16+381 \n",
      "A:   113 \n",
      "T/F: F\n",
      "----------\n",
      "Q:   263+62 \n",
      "A:   113 \n",
      "T/F: F\n",
      "----------\n",
      "Q:   445+3  \n",
      "A:   14  \n",
      "T/F: F\n",
      "----------\n",
      "Q:   616+9  \n",
      "A:   11  \n",
      "T/F: F\n",
      "----------\n",
      "Q:   33+22  \n",
      "A:   13  \n",
      "T/F: F\n",
      "----------\n",
      "Q:   6+992  \n",
      "A:   113 \n",
      "T/F: F\n",
      "----------\n",
      "Q:   47+964 \n",
      "A:   113 \n",
      "T/F: F\n",
      "----------\n",
      "Q:   2+944  \n",
      "A:   11  \n",
      "T/F: F\n",
      "----------\n"
     ]
    }
   ],
   "source": [
    "#学習\n",
    "epochs = 1\n",
    "batch_size = 200\n",
    "\n",
    "for epoch in range(epochs):\n",
    "    model.fit(X_train,Y_train,batch_size=batch_size,epochs=1,\n",
    "              validation_data=(X_validation,Y_validation))\n",
    "    \n",
    "    #検証データからランダムに問題を選んで答え合わせ\n",
    "    for i in range(10):\n",
    "        index = np.random.randint(0,N_validation)\n",
    "        question = X_validation[np.array([index])]\n",
    "        answer = Y_validation[np.array([index])]\n",
    "        prediction = model.predict_classes(question,verbose=0)\n",
    "        \n",
    "        question = question.argmax(axis=-1)\n",
    "        answer = answer.argmax(axis=-1)\n",
    "        \n",
    "        q = ''.join(indices_char[i] for i in question[0])\n",
    "        a = ''.join(indices_char[i] for i in answer[0])\n",
    "        p = ''.join(indices_char[i] for i in prediction[0])\n",
    "    \n",
    "        print('-' * 10)\n",
    "        print('Q:  ', q)\n",
    "        print('A:  ', p)\n",
    "        print('T/F:', end=' ')\n",
    "        if a == p:\n",
    "            print('T')\n",
    "        else:\n",
    "            print('F')\n",
    "    print('-' * 10)"
   ]
  }
 ],
 "metadata": {
  "kernelspec": {
   "display_name": "Python 3",
   "language": "python",
   "name": "python3"
  },
  "language_info": {
   "codemirror_mode": {
    "name": "ipython",
    "version": 3
   },
   "file_extension": ".py",
   "mimetype": "text/x-python",
   "name": "python",
   "nbconvert_exporter": "python",
   "pygments_lexer": "ipython3",
   "version": "3.6.0"
  }
 },
 "nbformat": 4,
 "nbformat_minor": 2
}
