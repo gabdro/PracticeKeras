{
 "cells": [
  {
   "cell_type": "markdown",
   "metadata": {},
   "source": [
    "# AutoEncoder"
   ]
  },
  {
   "cell_type": "code",
   "execution_count": 2,
   "metadata": {},
   "outputs": [],
   "source": [
    "import keras \n",
    "from keras.layers.core import Dense,Activation\n",
    "from keras.datasets import mnist\n",
    "from keras.models import Sequential\n",
    "\n",
    "import numpy as np\n",
    "import matplotlib.pyplot as plt\n",
    "from PIL import Image\n",
    "%matplotlib inline"
   ]
  },
  {
   "cell_type": "code",
   "execution_count": 7,
   "metadata": {},
   "outputs": [
    {
     "data": {
      "text/plain": [
       "(60000, 784)"
      ]
     },
     "execution_count": 7,
     "metadata": {},
     "output_type": "execute_result"
    }
   ],
   "source": [
    "# 学習データの準備\n",
    "(x_train,_),(x_test,_) = mnist.load_data()\n",
    "# 正規化(0-1)\n",
    "x_train = x_train.astype(\"float32\")/255.0\n",
    "x_test = x_test.astype(\"float32\")/255.0\n",
    "#(60000,28,28) -> (60000,784)\n",
    "n_in = x_train.shape[1]*x_train.shape[2]\n",
    "\n",
    "x_train = x_train.reshape((len(x_train),n_in))\n",
    "x_test = x_test.reshape((len(x_test),n_in))\n",
    "#x_train.shape"
   ]
  },
  {
   "cell_type": "code",
   "execution_count": 10,
   "metadata": {},
   "outputs": [
    {
     "name": "stdout",
     "output_type": "stream",
     "text": [
      "_________________________________________________________________\n",
      "Layer (type)                 Output Shape              Param #   \n",
      "=================================================================\n",
      "dense_3 (Dense)              (None, 32)                25120     \n",
      "_________________________________________________________________\n",
      "dense_4 (Dense)              (None, 784)               25872     \n",
      "=================================================================\n",
      "Total params: 50,992\n",
      "Trainable params: 50,992\n",
      "Non-trainable params: 0\n",
      "_________________________________________________________________\n"
     ]
    }
   ],
   "source": [
    "#モデル定義\n",
    "n_out = n_in #input/output\n",
    "encoding_dim = 32 #hidden layer\n",
    "autoencoder = Sequential()\n",
    "autoencoder.add(Dense(encoding_dim,activation='relu',input_dim=n_in))\n",
    "autoencoder.add(Dense(n_out,activation='sigmoid'))\n",
    "autoencoder.summary()\n",
    "autoencoder.compile(optimizer='adam',\n",
    "                    loss = 'binary_crossentropy')"
   ]
  },
  {
   "cell_type": "code",
   "execution_count": 12,
   "metadata": {},
   "outputs": [
    {
     "name": "stdout",
     "output_type": "stream",
     "text": [
      "Train on 60000 samples, validate on 10000 samples\n",
      "Epoch 1/10\n",
      "60000/60000 [==============================] - 4s - loss: 0.2717 - val_loss: 0.1880\n",
      "Epoch 2/10\n",
      "60000/60000 [==============================] - 5s - loss: 0.1705 - val_loss: 0.1534\n",
      "Epoch 3/10\n",
      "60000/60000 [==============================] - 4s - loss: 0.1442 - val_loss: 0.1340\n",
      "Epoch 4/10\n",
      "60000/60000 [==============================] - 4s - loss: 0.1291 - val_loss: 0.1218\n",
      "Epoch 5/10\n",
      "60000/60000 [==============================] - 5s - loss: 0.1188 - val_loss: 0.1134\n",
      "Epoch 6/10\n",
      "60000/60000 [==============================] - 4s - loss: 0.1118 - val_loss: 0.1079\n",
      "Epoch 7/10\n",
      "60000/60000 [==============================] - 5s - loss: 0.1068 - val_loss: 0.1035\n",
      "Epoch 8/10\n",
      "60000/60000 [==============================] - 5s - loss: 0.1031 - val_loss: 0.1003\n",
      "Epoch 9/10\n",
      "60000/60000 [==============================] - 4s - loss: 0.1003 - val_loss: 0.0979\n",
      "Epoch 10/10\n",
      "60000/60000 [==============================] - 4s - loss: 0.0982 - val_loss: 0.0961\n"
     ]
    },
    {
     "data": {
      "text/plain": [
       "<keras.callbacks.History at 0x12dbc9e80>"
      ]
     },
     "execution_count": 12,
     "metadata": {},
     "output_type": "execute_result"
    }
   ],
   "source": [
    "#学習\n",
    "autoencoder.fit(x_train,\n",
    "                x_train,\n",
    "                epochs=10,\n",
    "                batch_size=256,\n",
    "                shuffle=True,\n",
    "                validation_data=(x_test,x_test)\n",
    "               )"
   ]
  },
  {
   "cell_type": "code",
   "execution_count": 16,
   "metadata": {},
   "outputs": [
    {
     "data": {
      "image/png": "[encoded data removed]",
      "text/plain": [
       "<matplotlib.figure.Figure at 0x12dd25470>"
      ]
     },
     "metadata": {},
     "output_type": "display_data"
    }
   ],
   "source": [
    "plt.subplot(1,2,1)\n",
    "plt.imshow(x_test[100].reshape(28,28))\n",
    "plt.gray()\n",
    "plt.subplot(1,2,2)\n",
    "decoded_image = autoencoder.predict(x_test)\n",
    "plt.imshow(decoded_image[100].reshape(28,28))\n",
    "plt.gray()"
   ]
  },
  {
   "cell_type": "markdown",
   "metadata": {},
   "source": [
    "auto-encoderを書く上でencoderとdecoderを分ける書き方の方が良いのかもしれない.  \n",
    "Sequential使うよりFunctionAPI使った方が良い感?  "
   ]
  },
  {
   "cell_type": "markdown",
   "metadata": {},
   "source": [
    "# Convolutional Autoencoder"
   ]
  },
  {
   "cell_type": "code",
   "execution_count": 27,
   "metadata": {
    "collapsed": true
   },
   "outputs": [],
   "source": [
    "import keras\n",
    "from keras.models import Sequential\n",
    "from keras.layers import Dense,Dropout,Activation,Flatten\n",
    "from keras.layers import Convolution2D,MaxPooling2D,UpSampling2D\n",
    "\n",
    "from keras.datasets import cifar10,mnist"
   ]
  },
  {
   "cell_type": "code",
   "execution_count": 35,
   "metadata": {},
   "outputs": [],
   "source": [
    "# 学習データの準備\n",
    "(x_train,_),(x_test,_) = mnist.load_data()\n",
    "# 正規化(0-1)\n",
    "x_train = x_train.astype(\"float32\")/255.0\n",
    "x_test = x_test.astype(\"float32\")/255.0\n",
    "x_train = np.reshape(x_train, (len(x_train), 28, 28, 1))  # adapt this if using `channels_first` image data format\n",
    "x_test = np.reshape(x_test, (len(x_test), 28, 28, 1))  # adapt this if using `channels_first` image data format"
   ]
  },
  {
   "cell_type": "code",
   "execution_count": 44,
   "metadata": {
    "collapsed": true
   },
   "outputs": [],
   "source": [
    "# 学習データの準備\n",
    "(x_train,_),(x_test,_) = cifar10.load_data()\n",
    "# 正規化(0-1)\n",
    "x_train = x_train.astype(\"float32\")/255.0\n",
    "x_test = x_test.astype(\"float32\")/255.0\n",
    "x_train = np.reshape(x_train, (len(x_train), 32, 32, 3))  # adapt this if using `channels_first` image data format\n",
    "x_test = np.reshape(x_test, (len(x_test), 32, 32, 3))  # adapt this if using `channels_first` image data format"
   ]
  },
  {
   "cell_type": "code",
   "execution_count": 29,
   "metadata": {},
   "outputs": [
    {
     "data": {
      "text/plain": [
       "(60000, 28, 28, 1)"
      ]
     },
     "execution_count": 29,
     "metadata": {},
     "output_type": "execute_result"
    }
   ],
   "source": [
    "x_train.shape"
   ]
  },
  {
   "cell_type": "code",
   "execution_count": 47,
   "metadata": {},
   "outputs": [
    {
     "name": "stdout",
     "output_type": "stream",
     "text": [
      "_________________________________________________________________\n",
      "Layer (type)                 Output Shape              Param #   \n",
      "=================================================================\n",
      "conv2d_38 (Conv2D)           (None, 32, 32, 16)        448       \n",
      "_________________________________________________________________\n",
      "max_pooling2d_16 (MaxPooling (None, 16, 16, 16)        0         \n",
      "_________________________________________________________________\n",
      "conv2d_39 (Conv2D)           (None, 16, 16, 8)         1160      \n",
      "_________________________________________________________________\n",
      "max_pooling2d_17 (MaxPooling (None, 8, 8, 8)           0         \n",
      "_________________________________________________________________\n",
      "conv2d_40 (Conv2D)           (None, 8, 8, 8)           584       \n",
      "_________________________________________________________________\n",
      "up_sampling2d_17 (UpSampling (None, 16, 16, 8)         0         \n",
      "_________________________________________________________________\n",
      "conv2d_41 (Conv2D)           (None, 16, 16, 16)        1168      \n",
      "_________________________________________________________________\n",
      "up_sampling2d_18 (UpSampling (None, 32, 32, 16)        0         \n",
      "_________________________________________________________________\n",
      "conv2d_42 (Conv2D)           (None, 32, 32, 3)         435       \n",
      "=================================================================\n",
      "Total params: 3,795\n",
      "Trainable params: 3,795\n",
      "Non-trainable params: 0\n",
      "_________________________________________________________________\n"
     ]
    },
    {
     "name": "stderr",
     "output_type": "stream",
     "text": [
      "/Users/yuki/DevLAB/lib/python3.6/site-packages/ipykernel_launcher.py:6: UserWarning: Update your `Conv2D` call to the Keras 2 API: `Conv2D(16, (3, 3), activation=\"relu\", input_shape=(32, 32, 3..., padding=\"same\")`\n",
      "  \n",
      "/Users/yuki/DevLAB/lib/python3.6/site-packages/ipykernel_launcher.py:11: UserWarning: Update your `Conv2D` call to the Keras 2 API: `Conv2D(8, (3, 3), activation=\"relu\", padding=\"same\")`\n",
      "  # This is added back by InteractiveShellApp.init_path()\n",
      "/Users/yuki/DevLAB/lib/python3.6/site-packages/ipykernel_launcher.py:32: UserWarning: Update your `Conv2D` call to the Keras 2 API: `Conv2D(8, (3, 3), activation=\"relu\", padding=\"same\")`\n",
      "/Users/yuki/DevLAB/lib/python3.6/site-packages/ipykernel_launcher.py:37: UserWarning: Update your `Conv2D` call to the Keras 2 API: `Conv2D(16, (3, 3), activation=\"relu\", padding=\"same\")`\n",
      "/Users/yuki/DevLAB/lib/python3.6/site-packages/ipykernel_launcher.py:42: UserWarning: Update your `Conv2D` call to the Keras 2 API: `Conv2D(3, (3, 3), activation=\"relu\", padding=\"same\")`\n"
     ]
    }
   ],
   "source": [
    "c_autoencoder = Sequential()\n",
    "#Encoder\n",
    "c_autoencoder.add(Convolution2D(16,3,3,\n",
    "                                activation='relu',\n",
    "                                border_mode='same',\n",
    "                                input_shape=x_train.shape[1:]\n",
    "                               ))\n",
    "c_autoencoder.add(MaxPooling2D(pool_size=(2,2)))\n",
    "c_autoencoder.add(Convolution2D(8,3,3,\n",
    "                                activation='relu',\n",
    "                                border_mode='same'\n",
    "                               ))\n",
    "c_autoencoder.add(MaxPooling2D(pool_size=(2,2)))\n",
    "'''\n",
    "c_autoencoder.add(Convolution2D(8,3,3,\n",
    "                                activation='relu',\n",
    "                                border_mode='same'\n",
    "                               ))\n",
    "c_autoencoder.add(MaxPooling2D(pool_size=(2,2)))\n",
    "'''\n",
    "                  \n",
    "#Decoder\n",
    "'''\n",
    "c_autoencoder.add(Convolution2D(8,3,3,\n",
    "                               activation='relu',\n",
    "                               border_mode='same',\n",
    "                               ))\n",
    "c_autoencoder.add(UpSampling2D(size=(2,2)))\n",
    "'''\n",
    "c_autoencoder.add(Convolution2D(8,3,3,\n",
    "                               activation='relu',\n",
    "                               border_mode='same',\n",
    "                               ))\n",
    "c_autoencoder.add(UpSampling2D(size=(2,2)))\n",
    "c_autoencoder.add(Convolution2D(16,3,3,\n",
    "                               activation='relu',\n",
    "                               border_mode='same',\n",
    "                               ))\n",
    "c_autoencoder.add(UpSampling2D(size=(2,2)))\n",
    "c_autoencoder.add(Convolution2D(3,3,3,\n",
    "                               activation='relu',\n",
    "                               border_mode='same',\n",
    "                               ))\n",
    "c_autoencoder.summary()\n",
    "c_autoencoder.compile(optimizer='adam',\n",
    "                      loss = 'binary_crossentropy')"
   ]
  },
  {
   "cell_type": "code",
   "execution_count": 49,
   "metadata": {},
   "outputs": [
    {
     "name": "stdout",
     "output_type": "stream",
     "text": [
      "Train on 50000 samples, validate on 10000 samples\n",
      "Epoch 1/1\n",
      "50000/50000 [==============================] - 135s - loss: 0.6212 - val_loss: 0.5950\n"
     ]
    },
    {
     "data": {
      "text/plain": [
       "<keras.callbacks.History at 0x12e6f8f28>"
      ]
     },
     "execution_count": 49,
     "metadata": {},
     "output_type": "execute_result"
    }
   ],
   "source": [
    "c_autoencoder.fit(x_train, x_train,\n",
    "                  epochs=1,\n",
    "                  batch_size=128,\n",
    "                  shuffle=True,\n",
    "                  validation_data=(x_test, x_test)\n",
    "                 )"
   ]
  },
  {
   "cell_type": "code",
   "execution_count": 51,
   "metadata": {},
   "outputs": [
    {
     "data": {
      "image/png": "[encoded data removed]",
      "text/plain": [
       "<matplotlib.figure.Figure at 0x13ac30320>"
      ]
     },
     "metadata": {},
     "output_type": "display_data"
    }
   ],
   "source": [
    "plt.subplot(1,2,1)\n",
    "plt.imshow(x_test[0])\n",
    "plt.gray()\n",
    "plt.subplot(1,2,2)\n",
    "decoded_image = c_autoencoder.predict(x_test)\n",
    "plt.imshow(decoded_image[0])\n",
    "plt.gray()"
   ]
  },
  {
   "cell_type": "code",
   "execution_count": null,
   "metadata": {
    "collapsed": true
   },
   "outputs": [],
   "source": []
  }
 ],
 "metadata": {
  "kernelspec": {
   "display_name": "Python 3",
   "language": "python",
   "name": "python3"
  },
  "language_info": {
   "codemirror_mode": {
    "name": "ipython",
    "version": 3
   },
   "file_extension": ".py",
   "mimetype": "text/x-python",
   "name": "python",
   "nbconvert_exporter": "python",
   "pygments_lexer": "ipython3",
   "version": "3.6.0"
  }
 },
 "nbformat": 4,
 "nbformat_minor": 2
}
